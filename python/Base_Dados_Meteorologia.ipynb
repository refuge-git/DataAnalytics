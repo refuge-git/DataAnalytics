{
 "cells": [
  {
   "cell_type": "code",
   "execution_count": 1,
   "id": "19b9f59d",
   "metadata": {},
   "outputs": [
    {
     "name": "stdout",
     "output_type": "stream",
     "text": [
      "\n",
      "Resumo diário:\n",
      "           dia  chuva_mm     temp_c    umidade\n",
      "0   2025-04-01       0.0  23.208333  73.833333\n",
      "1   2025-04-02       0.0  25.220833  66.208333\n",
      "2   2025-04-03      11.0  23.237500  76.458333\n",
      "3   2025-04-04      26.6  22.345833  82.833333\n",
      "4   2025-04-05       1.0  17.750000  80.208333\n",
      "5   2025-04-06       0.2  17.775000  72.500000\n",
      "6   2025-04-07       0.4  18.708333  70.833333\n",
      "7   2025-04-08       0.0  19.812500  70.291667\n",
      "8   2025-04-09       7.8  22.834783  68.347826\n",
      "9   2025-04-10      24.6  20.779167  83.375000\n",
      "10  2025-04-11       0.2  20.537500  75.625000\n",
      "11  2025-04-12       0.0  20.686957  73.434783\n",
      "12  2025-04-13       2.0  21.933333  69.958333\n",
      "13  2025-04-14      58.6  20.212500  81.000000\n",
      "14  2025-04-15       0.0  20.004167  73.375000\n",
      "15  2025-04-16       0.8  21.120833  73.833333\n",
      "16  2025-04-17       0.0  21.941667  72.500000\n",
      "17  2025-04-18      11.2  21.504348  75.130435\n",
      "18  2025-04-19       1.8  21.766667  78.666667\n",
      "19  2025-04-20       5.6  20.050000  81.333333\n",
      "20  2025-04-21       0.0  19.012500  77.500000\n",
      "21  2025-04-22       0.0  18.104167  71.958333\n",
      "22  2025-04-23       0.0  19.450000  72.791667\n",
      "23  2025-04-24       3.4  20.916667  76.041667\n",
      "24  2025-04-25      24.8  19.026087  89.347826\n",
      "25  2025-04-26       0.0  20.737500  79.291667\n",
      "26  2025-04-27       0.0  21.420833  75.500000\n",
      "27  2025-04-28       0.4  21.245833  77.333333\n",
      "28  2025-04-29       0.0  18.870833  74.125000\n",
      "29  2025-04-30       0.0  18.133333  69.750000\n",
      "\n",
      "Resumo mensal:\n",
      "   mes_ano  chuva_mm     temp_c    umidade\n",
      "0  2025-01     309.6  23.316151  70.854643\n",
      "1  2025-02     287.8  24.982836  66.495522\n",
      "2  2025-03     111.2  23.381301  69.123306\n",
      "3  2025-04     180.4  20.609358  75.439944\n",
      "4  2025-05      38.0  19.232838  69.305405\n",
      "5  2025-06      72.4  17.436351  70.101671\n",
      "6  2025-07      15.6  15.751147  68.215924\n"
     ]
    }
   ],
   "source": [
    "import pandas as pd\n",
    "import unicodedata\n",
    "import matplotlib.pyplot as plt\n",
    "\n",
    "file_path = \"INMET_SE_SP_A701_SAO PAULO - MIRANTE_01-01-2025_A_31-07-2025.CSV\"\n",
    "\n",
    "# Ler CSV tirando as primeiras 8 linhas de cabeçalho\n",
    "df = pd.read_csv(file_path, sep=\";\", encoding=\"utf-8\", skiprows=8)\n",
    "\n",
    "df.columns = [\n",
    "    unicodedata.normalize(\"NFKD\", col)\n",
    "    .encode(\"ASCII\", \"ignore\")\n",
    "    .decode(\"utf-8\")\n",
    "    .strip()\n",
    "    for col in df.columns\n",
    "]\n",
    "\n",
    "# Renomear colunas principais\n",
    "renomear = {\n",
    "    \"data\": [\"Data\"],\n",
    "    \"hora_utc\": [\"Hora UTC\"],\n",
    "    \"chuva_mm\": [\"PRECIPITACAO TOTAL, HORARIO (mm)\",\n",
    "                 \"PRECIPITAO TOTAL, HORRIO (mm)\"],\n",
    "    \"temp_c\": [\"TEMPERATURA DO AR - BULBO SECO, HORARIA (C)\"],\n",
    "    \"umidade\": [\"UMIDADE RELATIVA DO AR, HORARIA (%)\"]\n",
    "}\n",
    "\n",
    "# Criar mapeamento dinâmico\n",
    "col_map = {}\n",
    "for novo, antigos in renomear.items():\n",
    "    for old in antigos:\n",
    "        if old in df.columns:\n",
    "            col_map[old] = novo\n",
    "\n",
    "df = df.rename(columns=col_map)\n",
    "\n",
    "df[\"datetime\"] = pd.to_datetime(\n",
    "    df[\"data\"] + \" \" + df[\"hora_utc\"],\n",
    "    format=\"%Y/%m/%d %H%M UTC\",\n",
    "    errors=\"coerce\"\n",
    ")\n",
    "\n",
    "# Converter numéricos (corrigir vírgula decimal)\n",
    "for col in [\"chuva_mm\", \"temp_c\", \"umidade\"]:\n",
    "    if col in df.columns:\n",
    "        df[col] = df[col].astype(str).str.replace(\",\", \".\").astype(float)\n",
    "\n",
    "df[\"mes\"] = df[\"datetime\"].dt.month\n",
    "df[\"ano\"] = df[\"datetime\"].dt.year\n",
    "\n",
    "# Resumo diário para um mês escolhido\n",
    "def resumo_diario(mes_escolhido):\n",
    "    df_mes = df[df[\"mes\"] == mes_escolhido]\n",
    "    if df_mes.empty:\n",
    "        return f\"Nenhum dado disponível para o mês {mes_escolhido}.\"\n",
    "    df_daily = df_mes.groupby(df_mes[\"datetime\"].dt.date).agg({\n",
    "        \"chuva_mm\": \"sum\" if \"chuva_mm\" in df_mes else \"first\",\n",
    "        \"temp_c\": \"mean\" if \"temp_c\" in df_mes else \"first\",\n",
    "        \"umidade\": \"mean\" if \"umidade\" in df_mes else \"first\"\n",
    "    }).reset_index().rename(columns={\"datetime\": \"dia\"})\n",
    "    return df_daily\n",
    "\n",
    "mes_escolhido = int(input(\"Digite o número do mês para o resumo diário: \"))\n",
    "\n",
    "print(\"\\nResumo diário:\")\n",
    "print(resumo_diario(mes_escolhido))\n",
    "\n",
    "# Resumo mensal até o último mês disponível\n",
    "df[\"mes_ano\"] = df[\"datetime\"].dt.to_period(\"M\")\n",
    "df_monthly = df.groupby(\"mes_ano\").agg({\n",
    "    \"chuva_mm\": \"sum\" if \"chuva_mm\" in df else \"first\",\n",
    "    \"temp_c\": \"mean\" if \"temp_c\" in df else \"first\",\n",
    "    \"umidade\": \"mean\" if \"umidade\" in df else \"first\"\n",
    "}).reset_index()\n",
    "\n",
    "print(\"\\nResumo mensal:\")\n",
    "print(df_monthly)\n",
    "\n"
   ]
  },
  {
   "cell_type": "code",
   "execution_count": null,
   "id": "386666cb",
   "metadata": {},
   "outputs": [],
   "source": [
    "# Gráfico do resumo diário\n",
    "df_daily = resumo_diario(mes_escolhido)\n",
    "if not df_daily.empty:\n",
    "    fig, ax1 = plt.subplots(figsize=(8, 4))\n",
    "    \n",
    "    # Barras de chuva\n",
    "    ax1.bar(df_daily[\"dia\"], df_daily[\"chuva_mm\"], color=\"skyblue\", alpha=0.6, label=\"Chuva (mm)\")\n",
    "    ax1.set_xlabel(\"Dia\")\n",
    "    ax1.set_ylabel(\"Chuva (mm)\", color=\"skyblue\")\n",
    "    ax1.tick_params(axis='y', labelcolor=\"skyblue\")\n",
    "\n",
    "    # Linhas de temperatura e umidade\n",
    "    ax2 = ax1.twinx()\n",
    "    ax2.plot(df_daily[\"dia\"], df_daily[\"temp_c\"], color=\"orange\", marker=\"o\", label=\"Temperatura (°C)\")\n",
    "    ax2.plot(df_daily[\"dia\"], df_daily[\"umidade\"], color=\"blue\", marker=\"o\", label=\"Umidade (%)\")\n",
    "    ax2.set_ylabel(\"Temperatura/Umidade\", color=\"black\")\n",
    "    fig.autofmt_xdate(rotation=45)\n",
    "    fig.tight_layout()\n",
    "    fig.legend(loc=\"upper right\")\n",
    "    plt.title(f\"Resumo diário - Mês {mes_escolhido}\")\n",
    "    plt.show()\n",
    "\n",
    "# Gráfico resumo mensal\n",
    "fig, ax1 = plt.subplots(figsize=(8, 4))\n",
    "ax1.bar(df_monthly[\"mes_ano\"].astype(str), df_monthly[\"chuva_mm\"], color=\"skyblue\", alpha=0.6, label=\"Chuva (mm)\")\n",
    "ax1.set_xlabel(\"Mês/Ano\")\n",
    "ax1.set_ylabel(\"Chuva (mm)\", color=\"skyblue\")\n",
    "ax1.tick_params(axis='y', labelcolor=\"skyblue\")\n",
    "ax2 = ax1.twinx()\n",
    "ax2.plot(df_monthly[\"mes_ano\"].astype(str), df_monthly[\"temp_c\"], color=\"orange\", marker=\"o\", label=\"Temperatura (°C)\")\n",
    "ax2.plot(df_monthly[\"mes_ano\"].astype(str), df_monthly[\"umidade\"], color=\"blue\", marker=\"o\", label=\"Umidade (%)\")\n",
    "ax2.set_ylabel(\"Temperatura/Umidade\", color=\"black\")\n",
    "fig.autofmt_xdate(rotation=45)\n",
    "fig.tight_layout()\n",
    "fig.legend(loc=\"upper right\")\n",
    "plt.title(\"Resumo mensal\")\n",
    "plt.show()"
   ]
  },
  {
   "cell_type": "code",
   "execution_count": 2,
   "id": "28ce9e7b",
   "metadata": {},
   "outputs": [
    {
     "data": {
      "application/vnd.plotly.v1+json": {
       "config": {
        "plotlyServerURL": "https://plot.ly"
       },
       "data": [
        {
         "hovertemplate": "Dia=%{x}<br>Chuva (mm)=%{y}<extra></extra>",
         "legendgroup": "",
         "marker": {
          "color": "skyblue",
          "pattern": {
           "shape": ""
          }
         },
         "name": "",
         "orientation": "v",
         "showlegend": false,
         "textposition": "auto",
         "type": "bar",
         "x": [
          "2025-04-01",
          "2025-04-02",
          "2025-04-03",
          "2025-04-04",
          "2025-04-05",
          "2025-04-06",
          "2025-04-07",
          "2025-04-08",
          "2025-04-09",
          "2025-04-10",
          "2025-04-11",
          "2025-04-12",
          "2025-04-13",
          "2025-04-14",
          "2025-04-15",
          "2025-04-16",
          "2025-04-17",
          "2025-04-18",
          "2025-04-19",
          "2025-04-20",
          "2025-04-21",
          "2025-04-22",
          "2025-04-23",
          "2025-04-24",
          "2025-04-25",
          "2025-04-26",
          "2025-04-27",
          "2025-04-28",
          "2025-04-29",
          "2025-04-30"
         ],
         "xaxis": "x",
         "y": {
          "bdata": "AAAAAAAAAAAAAAAAAAAAAAAAAAAAACZAmpmZmZmZOkAAAAAAAADwP5qZmZmZmck/mpmZmZmZ2T8AAAAAAAAAADMzMzMzMx9AmZmZmZmZOECamZmZmZnJPwAAAAAAAAAAAAAAAAAAAEDNzMzMzExNQAAAAAAAAAAAmpmZmZmZ6T8AAAAAAAAAAGZmZmZmZiZAzczMzMzM/D9nZmZmZmYWQAAAAAAAAAAAAAAAAAAAAAAAAAAAAAAAADQzMzMzMwtAzczMzMzMOEAAAAAAAAAAAAAAAAAAAAAAmpmZmZmZ2T8AAAAAAAAAAAAAAAAAAAAA",
          "dtype": "f8"
         },
         "yaxis": "y"
        },
        {
         "line": {
          "color": "orange"
         },
         "mode": "lines+markers",
         "name": "Temperatura (°C)",
         "type": "scatter",
         "x": [
          "2025-04-01",
          "2025-04-02",
          "2025-04-03",
          "2025-04-04",
          "2025-04-05",
          "2025-04-06",
          "2025-04-07",
          "2025-04-08",
          "2025-04-09",
          "2025-04-10",
          "2025-04-11",
          "2025-04-12",
          "2025-04-13",
          "2025-04-14",
          "2025-04-15",
          "2025-04-16",
          "2025-04-17",
          "2025-04-18",
          "2025-04-19",
          "2025-04-20",
          "2025-04-21",
          "2025-04-22",
          "2025-04-23",
          "2025-04-24",
          "2025-04-25",
          "2025-04-26",
          "2025-04-27",
          "2025-04-28",
          "2025-04-29",
          "2025-04-30"
         ],
         "y": {
          "bdata": "VVVVVVU1N0CIiIiIiDg5QM3MzMzMPDdAiIiIiIhYNkAAAAAAAMAxQGdmZmZmxjFAVVVVVVW1MkAAAAAAANAzQA6eI1C01TZAd3d3d3fHNECZmZmZmYk0QLuk8mHcrzRA7+7u7u7uNUBnZmZmZjY0QBERERERATRA7+7u7u4eNUAREREREfE1QCjaavAcgTVARERERETENUDNzMzMzAw0QDMzMzMzAzNAq6qqqqoaMkAzMzMzM3MzQKuqqqqq6jRA8RyBoq0GM0DNzMzMzLw0QLy7u7u7azVA7+7u7u4+NUDv7u7u7t4yQCIiIiIiIjJA",
          "dtype": "f8"
         },
         "yaxis": "y2"
        },
        {
         "line": {
          "color": "blue"
         },
         "mode": "lines+markers",
         "name": "Umidade (%)",
         "type": "scatter",
         "x": [
          "2025-04-01",
          "2025-04-02",
          "2025-04-03",
          "2025-04-04",
          "2025-04-05",
          "2025-04-06",
          "2025-04-07",
          "2025-04-08",
          "2025-04-09",
          "2025-04-10",
          "2025-04-11",
          "2025-04-12",
          "2025-04-13",
          "2025-04-14",
          "2025-04-15",
          "2025-04-16",
          "2025-04-17",
          "2025-04-18",
          "2025-04-19",
          "2025-04-20",
          "2025-04-21",
          "2025-04-22",
          "2025-04-23",
          "2025-04-24",
          "2025-04-25",
          "2025-04-26",
          "2025-04-27",
          "2025-04-28",
          "2025-04-29",
          "2025-04-30"
         ],
         "y": {
          "bdata": "VVVVVVV1UkBVVVVVVY1QQFVVVVVVHVNAVVVVVVW1VEBVVVVVVQ1UQAAAAAAAIFJAVVVVVVW1UUCrqqqqqpJRQCELWchCFlFAAAAAAADYVEAAAAAAAOhSQOpNb3rTW1JAVVVVVVV9UUAAAAAAAEBUQAAAAAAAWFJAVVVVVVV1UkAAAAAAACBSQC1kIQtZyFJAq6qqqqqqU0BVVVVVVVVUQAAAAAAAYFNAVVVVVVX9UUCrqqqqqjJSQKuqqqqqAlNAIQtZyEJWVkCrqqqqqtJTQAAAAAAA4FJAVVVVVVVVU0AAAAAAAIhSQAAAAAAAcFFA",
          "dtype": "f8"
         },
         "yaxis": "y2"
        }
       ],
       "layout": {
        "barmode": "relative",
        "legend": {
         "tracegroupgap": 0,
         "x": 0.01,
         "y": 0.99
        },
        "template": {
         "data": {
          "bar": [
           {
            "error_x": {
             "color": "#2a3f5f"
            },
            "error_y": {
             "color": "#2a3f5f"
            },
            "marker": {
             "line": {
              "color": "#E5ECF6",
              "width": 0.5
             },
             "pattern": {
              "fillmode": "overlay",
              "size": 10,
              "solidity": 0.2
             }
            },
            "type": "bar"
           }
          ],
          "barpolar": [
           {
            "marker": {
             "line": {
              "color": "#E5ECF6",
              "width": 0.5
             },
             "pattern": {
              "fillmode": "overlay",
              "size": 10,
              "solidity": 0.2
             }
            },
            "type": "barpolar"
           }
          ],
          "carpet": [
           {
            "aaxis": {
             "endlinecolor": "#2a3f5f",
             "gridcolor": "white",
             "linecolor": "white",
             "minorgridcolor": "white",
             "startlinecolor": "#2a3f5f"
            },
            "baxis": {
             "endlinecolor": "#2a3f5f",
             "gridcolor": "white",
             "linecolor": "white",
             "minorgridcolor": "white",
             "startlinecolor": "#2a3f5f"
            },
            "type": "carpet"
           }
          ],
          "choropleth": [
           {
            "colorbar": {
             "outlinewidth": 0,
             "ticks": ""
            },
            "type": "choropleth"
           }
          ],
          "contour": [
           {
            "colorbar": {
             "outlinewidth": 0,
             "ticks": ""
            },
            "colorscale": [
             [
              0,
              "#0d0887"
             ],
             [
              0.1111111111111111,
              "#46039f"
             ],
             [
              0.2222222222222222,
              "#7201a8"
             ],
             [
              0.3333333333333333,
              "#9c179e"
             ],
             [
              0.4444444444444444,
              "#bd3786"
             ],
             [
              0.5555555555555556,
              "#d8576b"
             ],
             [
              0.6666666666666666,
              "#ed7953"
             ],
             [
              0.7777777777777778,
              "#fb9f3a"
             ],
             [
              0.8888888888888888,
              "#fdca26"
             ],
             [
              1,
              "#f0f921"
             ]
            ],
            "type": "contour"
           }
          ],
          "contourcarpet": [
           {
            "colorbar": {
             "outlinewidth": 0,
             "ticks": ""
            },
            "type": "contourcarpet"
           }
          ],
          "heatmap": [
           {
            "colorbar": {
             "outlinewidth": 0,
             "ticks": ""
            },
            "colorscale": [
             [
              0,
              "#0d0887"
             ],
             [
              0.1111111111111111,
              "#46039f"
             ],
             [
              0.2222222222222222,
              "#7201a8"
             ],
             [
              0.3333333333333333,
              "#9c179e"
             ],
             [
              0.4444444444444444,
              "#bd3786"
             ],
             [
              0.5555555555555556,
              "#d8576b"
             ],
             [
              0.6666666666666666,
              "#ed7953"
             ],
             [
              0.7777777777777778,
              "#fb9f3a"
             ],
             [
              0.8888888888888888,
              "#fdca26"
             ],
             [
              1,
              "#f0f921"
             ]
            ],
            "type": "heatmap"
           }
          ],
          "histogram": [
           {
            "marker": {
             "pattern": {
              "fillmode": "overlay",
              "size": 10,
              "solidity": 0.2
             }
            },
            "type": "histogram"
           }
          ],
          "histogram2d": [
           {
            "colorbar": {
             "outlinewidth": 0,
             "ticks": ""
            },
            "colorscale": [
             [
              0,
              "#0d0887"
             ],
             [
              0.1111111111111111,
              "#46039f"
             ],
             [
              0.2222222222222222,
              "#7201a8"
             ],
             [
              0.3333333333333333,
              "#9c179e"
             ],
             [
              0.4444444444444444,
              "#bd3786"
             ],
             [
              0.5555555555555556,
              "#d8576b"
             ],
             [
              0.6666666666666666,
              "#ed7953"
             ],
             [
              0.7777777777777778,
              "#fb9f3a"
             ],
             [
              0.8888888888888888,
              "#fdca26"
             ],
             [
              1,
              "#f0f921"
             ]
            ],
            "type": "histogram2d"
           }
          ],
          "histogram2dcontour": [
           {
            "colorbar": {
             "outlinewidth": 0,
             "ticks": ""
            },
            "colorscale": [
             [
              0,
              "#0d0887"
             ],
             [
              0.1111111111111111,
              "#46039f"
             ],
             [
              0.2222222222222222,
              "#7201a8"
             ],
             [
              0.3333333333333333,
              "#9c179e"
             ],
             [
              0.4444444444444444,
              "#bd3786"
             ],
             [
              0.5555555555555556,
              "#d8576b"
             ],
             [
              0.6666666666666666,
              "#ed7953"
             ],
             [
              0.7777777777777778,
              "#fb9f3a"
             ],
             [
              0.8888888888888888,
              "#fdca26"
             ],
             [
              1,
              "#f0f921"
             ]
            ],
            "type": "histogram2dcontour"
           }
          ],
          "mesh3d": [
           {
            "colorbar": {
             "outlinewidth": 0,
             "ticks": ""
            },
            "type": "mesh3d"
           }
          ],
          "parcoords": [
           {
            "line": {
             "colorbar": {
              "outlinewidth": 0,
              "ticks": ""
             }
            },
            "type": "parcoords"
           }
          ],
          "pie": [
           {
            "automargin": true,
            "type": "pie"
           }
          ],
          "scatter": [
           {
            "fillpattern": {
             "fillmode": "overlay",
             "size": 10,
             "solidity": 0.2
            },
            "type": "scatter"
           }
          ],
          "scatter3d": [
           {
            "line": {
             "colorbar": {
              "outlinewidth": 0,
              "ticks": ""
             }
            },
            "marker": {
             "colorbar": {
              "outlinewidth": 0,
              "ticks": ""
             }
            },
            "type": "scatter3d"
           }
          ],
          "scattercarpet": [
           {
            "marker": {
             "colorbar": {
              "outlinewidth": 0,
              "ticks": ""
             }
            },
            "type": "scattercarpet"
           }
          ],
          "scattergeo": [
           {
            "marker": {
             "colorbar": {
              "outlinewidth": 0,
              "ticks": ""
             }
            },
            "type": "scattergeo"
           }
          ],
          "scattergl": [
           {
            "marker": {
             "colorbar": {
              "outlinewidth": 0,
              "ticks": ""
             }
            },
            "type": "scattergl"
           }
          ],
          "scattermap": [
           {
            "marker": {
             "colorbar": {
              "outlinewidth": 0,
              "ticks": ""
             }
            },
            "type": "scattermap"
           }
          ],
          "scattermapbox": [
           {
            "marker": {
             "colorbar": {
              "outlinewidth": 0,
              "ticks": ""
             }
            },
            "type": "scattermapbox"
           }
          ],
          "scatterpolar": [
           {
            "marker": {
             "colorbar": {
              "outlinewidth": 0,
              "ticks": ""
             }
            },
            "type": "scatterpolar"
           }
          ],
          "scatterpolargl": [
           {
            "marker": {
             "colorbar": {
              "outlinewidth": 0,
              "ticks": ""
             }
            },
            "type": "scatterpolargl"
           }
          ],
          "scatterternary": [
           {
            "marker": {
             "colorbar": {
              "outlinewidth": 0,
              "ticks": ""
             }
            },
            "type": "scatterternary"
           }
          ],
          "surface": [
           {
            "colorbar": {
             "outlinewidth": 0,
             "ticks": ""
            },
            "colorscale": [
             [
              0,
              "#0d0887"
             ],
             [
              0.1111111111111111,
              "#46039f"
             ],
             [
              0.2222222222222222,
              "#7201a8"
             ],
             [
              0.3333333333333333,
              "#9c179e"
             ],
             [
              0.4444444444444444,
              "#bd3786"
             ],
             [
              0.5555555555555556,
              "#d8576b"
             ],
             [
              0.6666666666666666,
              "#ed7953"
             ],
             [
              0.7777777777777778,
              "#fb9f3a"
             ],
             [
              0.8888888888888888,
              "#fdca26"
             ],
             [
              1,
              "#f0f921"
             ]
            ],
            "type": "surface"
           }
          ],
          "table": [
           {
            "cells": {
             "fill": {
              "color": "#EBF0F8"
             },
             "line": {
              "color": "white"
             }
            },
            "header": {
             "fill": {
              "color": "#C8D4E3"
             },
             "line": {
              "color": "white"
             }
            },
            "type": "table"
           }
          ]
         },
         "layout": {
          "annotationdefaults": {
           "arrowcolor": "#2a3f5f",
           "arrowhead": 0,
           "arrowwidth": 1
          },
          "autotypenumbers": "strict",
          "coloraxis": {
           "colorbar": {
            "outlinewidth": 0,
            "ticks": ""
           }
          },
          "colorscale": {
           "diverging": [
            [
             0,
             "#8e0152"
            ],
            [
             0.1,
             "#c51b7d"
            ],
            [
             0.2,
             "#de77ae"
            ],
            [
             0.3,
             "#f1b6da"
            ],
            [
             0.4,
             "#fde0ef"
            ],
            [
             0.5,
             "#f7f7f7"
            ],
            [
             0.6,
             "#e6f5d0"
            ],
            [
             0.7,
             "#b8e186"
            ],
            [
             0.8,
             "#7fbc41"
            ],
            [
             0.9,
             "#4d9221"
            ],
            [
             1,
             "#276419"
            ]
           ],
           "sequential": [
            [
             0,
             "#0d0887"
            ],
            [
             0.1111111111111111,
             "#46039f"
            ],
            [
             0.2222222222222222,
             "#7201a8"
            ],
            [
             0.3333333333333333,
             "#9c179e"
            ],
            [
             0.4444444444444444,
             "#bd3786"
            ],
            [
             0.5555555555555556,
             "#d8576b"
            ],
            [
             0.6666666666666666,
             "#ed7953"
            ],
            [
             0.7777777777777778,
             "#fb9f3a"
            ],
            [
             0.8888888888888888,
             "#fdca26"
            ],
            [
             1,
             "#f0f921"
            ]
           ],
           "sequentialminus": [
            [
             0,
             "#0d0887"
            ],
            [
             0.1111111111111111,
             "#46039f"
            ],
            [
             0.2222222222222222,
             "#7201a8"
            ],
            [
             0.3333333333333333,
             "#9c179e"
            ],
            [
             0.4444444444444444,
             "#bd3786"
            ],
            [
             0.5555555555555556,
             "#d8576b"
            ],
            [
             0.6666666666666666,
             "#ed7953"
            ],
            [
             0.7777777777777778,
             "#fb9f3a"
            ],
            [
             0.8888888888888888,
             "#fdca26"
            ],
            [
             1,
             "#f0f921"
            ]
           ]
          },
          "colorway": [
           "#636efa",
           "#EF553B",
           "#00cc96",
           "#ab63fa",
           "#FFA15A",
           "#19d3f3",
           "#FF6692",
           "#B6E880",
           "#FF97FF",
           "#FECB52"
          ],
          "font": {
           "color": "#2a3f5f"
          },
          "geo": {
           "bgcolor": "white",
           "lakecolor": "white",
           "landcolor": "#E5ECF6",
           "showlakes": true,
           "showland": true,
           "subunitcolor": "white"
          },
          "hoverlabel": {
           "align": "left"
          },
          "hovermode": "closest",
          "mapbox": {
           "style": "light"
          },
          "paper_bgcolor": "white",
          "plot_bgcolor": "#E5ECF6",
          "polar": {
           "angularaxis": {
            "gridcolor": "white",
            "linecolor": "white",
            "ticks": ""
           },
           "bgcolor": "#E5ECF6",
           "radialaxis": {
            "gridcolor": "white",
            "linecolor": "white",
            "ticks": ""
           }
          },
          "scene": {
           "xaxis": {
            "backgroundcolor": "#E5ECF6",
            "gridcolor": "white",
            "gridwidth": 2,
            "linecolor": "white",
            "showbackground": true,
            "ticks": "",
            "zerolinecolor": "white"
           },
           "yaxis": {
            "backgroundcolor": "#E5ECF6",
            "gridcolor": "white",
            "gridwidth": 2,
            "linecolor": "white",
            "showbackground": true,
            "ticks": "",
            "zerolinecolor": "white"
           },
           "zaxis": {
            "backgroundcolor": "#E5ECF6",
            "gridcolor": "white",
            "gridwidth": 2,
            "linecolor": "white",
            "showbackground": true,
            "ticks": "",
            "zerolinecolor": "white"
           }
          },
          "shapedefaults": {
           "line": {
            "color": "#2a3f5f"
           }
          },
          "ternary": {
           "aaxis": {
            "gridcolor": "white",
            "linecolor": "white",
            "ticks": ""
           },
           "baxis": {
            "gridcolor": "white",
            "linecolor": "white",
            "ticks": ""
           },
           "bgcolor": "#E5ECF6",
           "caxis": {
            "gridcolor": "white",
            "linecolor": "white",
            "ticks": ""
           }
          },
          "title": {
           "x": 0.05
          },
          "xaxis": {
           "automargin": true,
           "gridcolor": "white",
           "linecolor": "white",
           "ticks": "",
           "title": {
            "standoff": 15
           },
           "zerolinecolor": "white",
           "zerolinewidth": 2
          },
          "yaxis": {
           "automargin": true,
           "gridcolor": "white",
           "linecolor": "white",
           "ticks": "",
           "title": {
            "standoff": 15
           },
           "zerolinecolor": "white",
           "zerolinewidth": 2
          }
         }
        },
        "title": {
         "text": "Resumo diário - Mês 4"
        },
        "xaxis": {
         "anchor": "y",
         "domain": [
          0,
          1
         ],
         "title": {
          "text": "Dia"
         }
        },
        "yaxis": {
         "anchor": "x",
         "color": "skyblue",
         "domain": [
          0,
          1
         ],
         "title": {
          "text": "Chuva (mm)"
         }
        },
        "yaxis2": {
         "overlaying": "y",
         "side": "right",
         "title": {
          "text": "Temperatura/Umidade"
         }
        }
       }
      }
     },
     "metadata": {},
     "output_type": "display_data"
    },
    {
     "data": {
      "application/vnd.plotly.v1+json": {
       "config": {
        "plotlyServerURL": "https://plot.ly"
       },
       "data": [
        {
         "hovertemplate": "Mês/Ano=%{x}<br>Chuva (mm)=%{y}<extra></extra>",
         "legendgroup": "",
         "marker": {
          "color": "skyblue",
          "pattern": {
           "shape": ""
          }
         },
         "name": "",
         "orientation": "v",
         "showlegend": false,
         "textposition": "auto",
         "type": "bar",
         "x": [
          "2025-01",
          "2025-02",
          "2025-03",
          "2025-04",
          "2025-05",
          "2025-06",
          "2025-07"
         ],
         "xaxis": "x",
         "y": {
          "bdata": "mZmZmZlZc0DNzMzMzPxxQM3MzMzMzFtAzczMzMyMZkAAAAAAAABDQJqZmZmZGVJAMzMzMzMzL0A=",
          "dtype": "f8"
         },
         "yaxis": "y"
        },
        {
         "line": {
          "color": "orange"
         },
         "mode": "lines+markers",
         "name": "Temperatura (°C)",
         "type": "scatter",
         "x": [
          "2025-01",
          "2025-02",
          "2025-03",
          "2025-04",
          "2025-05",
          "2025-06",
          "2025-07"
         ],
         "y": {
          "bdata": "XPJBQe9QN0BmFdwgm/s4QOLOGe6cYTdAcAca2/6bNEDtyLJCmzszQFPnjrK0bzFACjg9WpaAL0A=",
          "dtype": "f8"
         },
         "yaxis": "y2"
        },
        {
         "line": {
          "color": "blue"
         },
         "mode": "lines+markers",
         "name": "Umidade (%)",
         "type": "scatter",
         "x": [
          "2025-01",
          "2025-02",
          "2025-03",
          "2025-04",
          "2025-05",
          "2025-06",
          "2025-07"
         ],
         "y": {
          "bdata": "gGv4ebK2UUC+yYijtp9QQFOZ0z/kR1FAtvtwCyjcUkA5Dx3Di1NRQAL7YMiBhlFA3YCvtNENUUA=",
          "dtype": "f8"
         },
         "yaxis": "y2"
        }
       ],
       "layout": {
        "barmode": "relative",
        "legend": {
         "tracegroupgap": 0,
         "x": 0.01,
         "y": 0.99
        },
        "template": {
         "data": {
          "bar": [
           {
            "error_x": {
             "color": "#2a3f5f"
            },
            "error_y": {
             "color": "#2a3f5f"
            },
            "marker": {
             "line": {
              "color": "#E5ECF6",
              "width": 0.5
             },
             "pattern": {
              "fillmode": "overlay",
              "size": 10,
              "solidity": 0.2
             }
            },
            "type": "bar"
           }
          ],
          "barpolar": [
           {
            "marker": {
             "line": {
              "color": "#E5ECF6",
              "width": 0.5
             },
             "pattern": {
              "fillmode": "overlay",
              "size": 10,
              "solidity": 0.2
             }
            },
            "type": "barpolar"
           }
          ],
          "carpet": [
           {
            "aaxis": {
             "endlinecolor": "#2a3f5f",
             "gridcolor": "white",
             "linecolor": "white",
             "minorgridcolor": "white",
             "startlinecolor": "#2a3f5f"
            },
            "baxis": {
             "endlinecolor": "#2a3f5f",
             "gridcolor": "white",
             "linecolor": "white",
             "minorgridcolor": "white",
             "startlinecolor": "#2a3f5f"
            },
            "type": "carpet"
           }
          ],
          "choropleth": [
           {
            "colorbar": {
             "outlinewidth": 0,
             "ticks": ""
            },
            "type": "choropleth"
           }
          ],
          "contour": [
           {
            "colorbar": {
             "outlinewidth": 0,
             "ticks": ""
            },
            "colorscale": [
             [
              0,
              "#0d0887"
             ],
             [
              0.1111111111111111,
              "#46039f"
             ],
             [
              0.2222222222222222,
              "#7201a8"
             ],
             [
              0.3333333333333333,
              "#9c179e"
             ],
             [
              0.4444444444444444,
              "#bd3786"
             ],
             [
              0.5555555555555556,
              "#d8576b"
             ],
             [
              0.6666666666666666,
              "#ed7953"
             ],
             [
              0.7777777777777778,
              "#fb9f3a"
             ],
             [
              0.8888888888888888,
              "#fdca26"
             ],
             [
              1,
              "#f0f921"
             ]
            ],
            "type": "contour"
           }
          ],
          "contourcarpet": [
           {
            "colorbar": {
             "outlinewidth": 0,
             "ticks": ""
            },
            "type": "contourcarpet"
           }
          ],
          "heatmap": [
           {
            "colorbar": {
             "outlinewidth": 0,
             "ticks": ""
            },
            "colorscale": [
             [
              0,
              "#0d0887"
             ],
             [
              0.1111111111111111,
              "#46039f"
             ],
             [
              0.2222222222222222,
              "#7201a8"
             ],
             [
              0.3333333333333333,
              "#9c179e"
             ],
             [
              0.4444444444444444,
              "#bd3786"
             ],
             [
              0.5555555555555556,
              "#d8576b"
             ],
             [
              0.6666666666666666,
              "#ed7953"
             ],
             [
              0.7777777777777778,
              "#fb9f3a"
             ],
             [
              0.8888888888888888,
              "#fdca26"
             ],
             [
              1,
              "#f0f921"
             ]
            ],
            "type": "heatmap"
           }
          ],
          "histogram": [
           {
            "marker": {
             "pattern": {
              "fillmode": "overlay",
              "size": 10,
              "solidity": 0.2
             }
            },
            "type": "histogram"
           }
          ],
          "histogram2d": [
           {
            "colorbar": {
             "outlinewidth": 0,
             "ticks": ""
            },
            "colorscale": [
             [
              0,
              "#0d0887"
             ],
             [
              0.1111111111111111,
              "#46039f"
             ],
             [
              0.2222222222222222,
              "#7201a8"
             ],
             [
              0.3333333333333333,
              "#9c179e"
             ],
             [
              0.4444444444444444,
              "#bd3786"
             ],
             [
              0.5555555555555556,
              "#d8576b"
             ],
             [
              0.6666666666666666,
              "#ed7953"
             ],
             [
              0.7777777777777778,
              "#fb9f3a"
             ],
             [
              0.8888888888888888,
              "#fdca26"
             ],
             [
              1,
              "#f0f921"
             ]
            ],
            "type": "histogram2d"
           }
          ],
          "histogram2dcontour": [
           {
            "colorbar": {
             "outlinewidth": 0,
             "ticks": ""
            },
            "colorscale": [
             [
              0,
              "#0d0887"
             ],
             [
              0.1111111111111111,
              "#46039f"
             ],
             [
              0.2222222222222222,
              "#7201a8"
             ],
             [
              0.3333333333333333,
              "#9c179e"
             ],
             [
              0.4444444444444444,
              "#bd3786"
             ],
             [
              0.5555555555555556,
              "#d8576b"
             ],
             [
              0.6666666666666666,
              "#ed7953"
             ],
             [
              0.7777777777777778,
              "#fb9f3a"
             ],
             [
              0.8888888888888888,
              "#fdca26"
             ],
             [
              1,
              "#f0f921"
             ]
            ],
            "type": "histogram2dcontour"
           }
          ],
          "mesh3d": [
           {
            "colorbar": {
             "outlinewidth": 0,
             "ticks": ""
            },
            "type": "mesh3d"
           }
          ],
          "parcoords": [
           {
            "line": {
             "colorbar": {
              "outlinewidth": 0,
              "ticks": ""
             }
            },
            "type": "parcoords"
           }
          ],
          "pie": [
           {
            "automargin": true,
            "type": "pie"
           }
          ],
          "scatter": [
           {
            "fillpattern": {
             "fillmode": "overlay",
             "size": 10,
             "solidity": 0.2
            },
            "type": "scatter"
           }
          ],
          "scatter3d": [
           {
            "line": {
             "colorbar": {
              "outlinewidth": 0,
              "ticks": ""
             }
            },
            "marker": {
             "colorbar": {
              "outlinewidth": 0,
              "ticks": ""
             }
            },
            "type": "scatter3d"
           }
          ],
          "scattercarpet": [
           {
            "marker": {
             "colorbar": {
              "outlinewidth": 0,
              "ticks": ""
             }
            },
            "type": "scattercarpet"
           }
          ],
          "scattergeo": [
           {
            "marker": {
             "colorbar": {
              "outlinewidth": 0,
              "ticks": ""
             }
            },
            "type": "scattergeo"
           }
          ],
          "scattergl": [
           {
            "marker": {
             "colorbar": {
              "outlinewidth": 0,
              "ticks": ""
             }
            },
            "type": "scattergl"
           }
          ],
          "scattermap": [
           {
            "marker": {
             "colorbar": {
              "outlinewidth": 0,
              "ticks": ""
             }
            },
            "type": "scattermap"
           }
          ],
          "scattermapbox": [
           {
            "marker": {
             "colorbar": {
              "outlinewidth": 0,
              "ticks": ""
             }
            },
            "type": "scattermapbox"
           }
          ],
          "scatterpolar": [
           {
            "marker": {
             "colorbar": {
              "outlinewidth": 0,
              "ticks": ""
             }
            },
            "type": "scatterpolar"
           }
          ],
          "scatterpolargl": [
           {
            "marker": {
             "colorbar": {
              "outlinewidth": 0,
              "ticks": ""
             }
            },
            "type": "scatterpolargl"
           }
          ],
          "scatterternary": [
           {
            "marker": {
             "colorbar": {
              "outlinewidth": 0,
              "ticks": ""
             }
            },
            "type": "scatterternary"
           }
          ],
          "surface": [
           {
            "colorbar": {
             "outlinewidth": 0,
             "ticks": ""
            },
            "colorscale": [
             [
              0,
              "#0d0887"
             ],
             [
              0.1111111111111111,
              "#46039f"
             ],
             [
              0.2222222222222222,
              "#7201a8"
             ],
             [
              0.3333333333333333,
              "#9c179e"
             ],
             [
              0.4444444444444444,
              "#bd3786"
             ],
             [
              0.5555555555555556,
              "#d8576b"
             ],
             [
              0.6666666666666666,
              "#ed7953"
             ],
             [
              0.7777777777777778,
              "#fb9f3a"
             ],
             [
              0.8888888888888888,
              "#fdca26"
             ],
             [
              1,
              "#f0f921"
             ]
            ],
            "type": "surface"
           }
          ],
          "table": [
           {
            "cells": {
             "fill": {
              "color": "#EBF0F8"
             },
             "line": {
              "color": "white"
             }
            },
            "header": {
             "fill": {
              "color": "#C8D4E3"
             },
             "line": {
              "color": "white"
             }
            },
            "type": "table"
           }
          ]
         },
         "layout": {
          "annotationdefaults": {
           "arrowcolor": "#2a3f5f",
           "arrowhead": 0,
           "arrowwidth": 1
          },
          "autotypenumbers": "strict",
          "coloraxis": {
           "colorbar": {
            "outlinewidth": 0,
            "ticks": ""
           }
          },
          "colorscale": {
           "diverging": [
            [
             0,
             "#8e0152"
            ],
            [
             0.1,
             "#c51b7d"
            ],
            [
             0.2,
             "#de77ae"
            ],
            [
             0.3,
             "#f1b6da"
            ],
            [
             0.4,
             "#fde0ef"
            ],
            [
             0.5,
             "#f7f7f7"
            ],
            [
             0.6,
             "#e6f5d0"
            ],
            [
             0.7,
             "#b8e186"
            ],
            [
             0.8,
             "#7fbc41"
            ],
            [
             0.9,
             "#4d9221"
            ],
            [
             1,
             "#276419"
            ]
           ],
           "sequential": [
            [
             0,
             "#0d0887"
            ],
            [
             0.1111111111111111,
             "#46039f"
            ],
            [
             0.2222222222222222,
             "#7201a8"
            ],
            [
             0.3333333333333333,
             "#9c179e"
            ],
            [
             0.4444444444444444,
             "#bd3786"
            ],
            [
             0.5555555555555556,
             "#d8576b"
            ],
            [
             0.6666666666666666,
             "#ed7953"
            ],
            [
             0.7777777777777778,
             "#fb9f3a"
            ],
            [
             0.8888888888888888,
             "#fdca26"
            ],
            [
             1,
             "#f0f921"
            ]
           ],
           "sequentialminus": [
            [
             0,
             "#0d0887"
            ],
            [
             0.1111111111111111,
             "#46039f"
            ],
            [
             0.2222222222222222,
             "#7201a8"
            ],
            [
             0.3333333333333333,
             "#9c179e"
            ],
            [
             0.4444444444444444,
             "#bd3786"
            ],
            [
             0.5555555555555556,
             "#d8576b"
            ],
            [
             0.6666666666666666,
             "#ed7953"
            ],
            [
             0.7777777777777778,
             "#fb9f3a"
            ],
            [
             0.8888888888888888,
             "#fdca26"
            ],
            [
             1,
             "#f0f921"
            ]
           ]
          },
          "colorway": [
           "#636efa",
           "#EF553B",
           "#00cc96",
           "#ab63fa",
           "#FFA15A",
           "#19d3f3",
           "#FF6692",
           "#B6E880",
           "#FF97FF",
           "#FECB52"
          ],
          "font": {
           "color": "#2a3f5f"
          },
          "geo": {
           "bgcolor": "white",
           "lakecolor": "white",
           "landcolor": "#E5ECF6",
           "showlakes": true,
           "showland": true,
           "subunitcolor": "white"
          },
          "hoverlabel": {
           "align": "left"
          },
          "hovermode": "closest",
          "mapbox": {
           "style": "light"
          },
          "paper_bgcolor": "white",
          "plot_bgcolor": "#E5ECF6",
          "polar": {
           "angularaxis": {
            "gridcolor": "white",
            "linecolor": "white",
            "ticks": ""
           },
           "bgcolor": "#E5ECF6",
           "radialaxis": {
            "gridcolor": "white",
            "linecolor": "white",
            "ticks": ""
           }
          },
          "scene": {
           "xaxis": {
            "backgroundcolor": "#E5ECF6",
            "gridcolor": "white",
            "gridwidth": 2,
            "linecolor": "white",
            "showbackground": true,
            "ticks": "",
            "zerolinecolor": "white"
           },
           "yaxis": {
            "backgroundcolor": "#E5ECF6",
            "gridcolor": "white",
            "gridwidth": 2,
            "linecolor": "white",
            "showbackground": true,
            "ticks": "",
            "zerolinecolor": "white"
           },
           "zaxis": {
            "backgroundcolor": "#E5ECF6",
            "gridcolor": "white",
            "gridwidth": 2,
            "linecolor": "white",
            "showbackground": true,
            "ticks": "",
            "zerolinecolor": "white"
           }
          },
          "shapedefaults": {
           "line": {
            "color": "#2a3f5f"
           }
          },
          "ternary": {
           "aaxis": {
            "gridcolor": "white",
            "linecolor": "white",
            "ticks": ""
           },
           "baxis": {
            "gridcolor": "white",
            "linecolor": "white",
            "ticks": ""
           },
           "bgcolor": "#E5ECF6",
           "caxis": {
            "gridcolor": "white",
            "linecolor": "white",
            "ticks": ""
           }
          },
          "title": {
           "x": 0.05
          },
          "xaxis": {
           "automargin": true,
           "gridcolor": "white",
           "linecolor": "white",
           "ticks": "",
           "title": {
            "standoff": 15
           },
           "zerolinecolor": "white",
           "zerolinewidth": 2
          },
          "yaxis": {
           "automargin": true,
           "gridcolor": "white",
           "linecolor": "white",
           "ticks": "",
           "title": {
            "standoff": 15
           },
           "zerolinecolor": "white",
           "zerolinewidth": 2
          }
         }
        },
        "title": {
         "text": "Resumo mensal"
        },
        "xaxis": {
         "anchor": "y",
         "domain": [
          0,
          1
         ],
         "title": {
          "text": "Mês/Ano"
         }
        },
        "yaxis": {
         "anchor": "x",
         "color": "skyblue",
         "domain": [
          0,
          1
         ],
         "title": {
          "text": "Chuva (mm)"
         }
        },
        "yaxis2": {
         "overlaying": "y",
         "side": "right",
         "title": {
          "text": "Temperatura/Umidade"
         }
        }
       }
      }
     },
     "metadata": {},
     "output_type": "display_data"
    }
   ],
   "source": [
    "import plotly.express as px\n",
    "\n",
    "# Gráfico do resumo diário\n",
    "df_daily = resumo_diario(mes_escolhido)\n",
    "if not df_daily.empty:\n",
    "    fig = px.bar(\n",
    "        df_daily,\n",
    "        x=\"dia\",\n",
    "        y=\"chuva_mm\",\n",
    "        labels={\"dia\": \"Dia\", \"chuva_mm\": \"Chuva (mm)\"},\n",
    "        title=f\"Resumo diário - Mês {mes_escolhido}\",\n",
    "        color_discrete_sequence=[\"skyblue\"]\n",
    "    )\n",
    "    fig.add_scatter(\n",
    "        x=df_daily[\"dia\"], y=df_daily[\"temp_c\"],\n",
    "        mode=\"lines+markers\", name=\"Temperatura (°C)\", yaxis=\"y2\", line=dict(color=\"orange\")\n",
    "    )\n",
    "    fig.add_scatter(\n",
    "        x=df_daily[\"dia\"], y=df_daily[\"umidade\"],\n",
    "        mode=\"lines+markers\", name=\"Umidade (%)\", yaxis=\"y2\", line=dict(color=\"blue\")\n",
    "    )\n",
    "    fig.update_layout(\n",
    "        yaxis=dict(title=\"Chuva (mm)\", color=\"skyblue\"),\n",
    "        yaxis2=dict(title=\"Temperatura/Umidade\", overlaying=\"y\", side=\"right\"),\n",
    "        legend=dict(x=0.01, y=0.99)\n",
    "    )\n",
    "    fig.show()\n",
    "\n",
    "# Gráfico resumo mensal\n",
    "fig = px.bar(\n",
    "    df_monthly,\n",
    "    x=df_monthly[\"mes_ano\"].astype(str),\n",
    "    y=\"chuva_mm\",\n",
    "    labels={\"mes_ano\": \"Mês/Ano\", \"chuva_mm\": \"Chuva (mm)\"},\n",
    "    title=\"Resumo mensal\",\n",
    "    color_discrete_sequence=[\"skyblue\"]\n",
    ")\n",
    "fig.add_scatter(\n",
    "    x=df_monthly[\"mes_ano\"].astype(str), y=df_monthly[\"temp_c\"],\n",
    "    mode=\"lines+markers\", name=\"Temperatura (°C)\", yaxis=\"y2\", line=dict(color=\"orange\")\n",
    ")\n",
    "fig.add_scatter(\n",
    "    x=df_monthly[\"mes_ano\"].astype(str), y=df_monthly[\"umidade\"],\n",
    "    mode=\"lines+markers\", name=\"Umidade (%)\", yaxis=\"y2\", line=dict(color=\"blue\")\n",
    ")\n",
    "fig.update_layout(\n",
    "    yaxis=dict(title=\"Chuva (mm)\", color=\"skyblue\"),\n",
    "    yaxis2=dict(title=\"Temperatura/Umidade\", overlaying=\"y\", side=\"right\"),\n",
    "    legend=dict(x=0.01, y=0.99)\n",
    ")\n",
    "fig.show()"
   ]
  }
 ],
 "metadata": {
  "kernelspec": {
   "display_name": "Python 3",
   "language": "python",
   "name": "python3"
  },
  "language_info": {
   "codemirror_mode": {
    "name": "ipython",
    "version": 3
   },
   "file_extension": ".py",
   "mimetype": "text/x-python",
   "name": "python",
   "nbconvert_exporter": "python",
   "pygments_lexer": "ipython3",
   "version": "3.12.10"
  }
 },
 "nbformat": 4,
 "nbformat_minor": 5
}
